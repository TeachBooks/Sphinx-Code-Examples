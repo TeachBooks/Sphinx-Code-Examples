{
 "cells": [
  {
   "cell_type": "markdown",
   "id": "2f328ded",
   "metadata": {},
   "source": [
    "# Examples\n",
    "\n",
    "## Code example\n",
    "\n",
    ":::{codex-start}\n",
    ":label: example-code\n",
    "\n",
    "Run the next piece of code\n",
    "\n",
    ":::"
   ]
  },
  {
   "cell_type": "code",
   "execution_count": null,
   "id": "66313f26",
   "metadata": {},
   "outputs": [],
   "source": [
    "print(\"Hello from a code cell in Sphinx Book!\")"
   ]
  },
  {
   "cell_type": "markdown",
   "id": "b6c31c4f",
   "metadata": {},
   "source": [
    "which should be a piece of cake.\n",
    "\n",
    ":::{codex-end}\n",
    ":::"
   ]
  },
  {
   "cell_type": "markdown",
   "id": "7684fffa",
   "metadata": {},
   "source": [
    "## Non-code example from sphinx-codex\n",
    "\n",
    ":::{codex}\n",
    ":label: example-codex\n",
    "\n",
    "This is an example from sphinx-codex. It is a non-code example.\n",
    "\n",
    ":::\n",
    "\n",
    "## Example from sphinx-proof\n",
    "\n",
    ":::{prf:example}\n",
    ":label: example-proof\n",
    "\n",
    "This is an example from sphinx-proof. It is a non-code example.\n",
    "\n",
    ":::\n",
    "\n",
    "## Testing references\n",
    "\n",
    "{ref}`example-code` shows a code example from sphinx-codex.\n",
    "\n",
    "{ref}`example-codex` shows a non-code example from sphinx-codex."
   ]
  }
 ],
 "metadata": {
  "language_info": {
   "name": "python"
  }
 },
 "nbformat": 4,
 "nbformat_minor": 5
}
